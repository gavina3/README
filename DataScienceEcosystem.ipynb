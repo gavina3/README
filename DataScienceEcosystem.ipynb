{
 "cells": [
  {
   "cell_type": "markdown",
   "id": "ef4c50f2-07f1-44a5-8dfe-2887cff5007c",
   "metadata": {
    "tags": []
   },
   "source": [
    "# Data Science Tools and Ecosystem"
   ]
  },
  {
   "cell_type": "markdown",
   "id": "06ed5237-ae07-4447-91c1-59171b3fe6a1",
   "metadata": {},
   "source": [
    "In this notebook, Data Science Tools and Ecosystem are summarized."
   ]
  },
  {
   "cell_type": "markdown",
   "id": "edd59f60-2070-4aa8-a430-5fa733eb49ea",
   "metadata": {},
   "source": [
    "**Objectives:**\n",
    "- List popular languages for Data Science\n",
    "- Design a tool that convert minutes into hours\n",
    "- List popular languages used in Data science"
   ]
  },
  {
   "cell_type": "markdown",
   "id": "bd7f3fb7-fc02-4970-bf2d-8e8061b3a206",
   "metadata": {},
   "source": [
    "Some of the popular languages that Data Scientists use are:"
   ]
  },
  {
   "cell_type": "markdown",
   "id": "3abd63e0-9d47-4d18-be1d-898110681034",
   "metadata": {},
   "source": [
    "1. Python\n",
    "1. R\n",
    "1. Javascript"
   ]
  },
  {
   "cell_type": "markdown",
   "id": "14174d67-5334-4fcd-8988-10af5be306fd",
   "metadata": {},
   "source": [
    "Some of the commonly used libraries used by Data Scientists include:\n",
    "1. Pandas\n",
    "1. Matplotlib\n",
    "1. NumPy\n"
   ]
  },
  {
   "cell_type": "markdown",
   "id": "c0599bc3-9530-4546-87c0-319049c76431",
   "metadata": {},
   "source": [
    "| Data Science Tools |\n",
    "|------------|\n",
    "| R Studio |\n",
    "| Jupyter Notebooks |\n",
    "| Github |"
   ]
  },
  {
   "cell_type": "markdown",
   "id": "83ae5d92-44d2-4168-8c8e-62e389c44ecd",
   "metadata": {},
   "source": [
    "### Below are a few examples of evaluating arithmetic expressions in Python"
   ]
  },
  {
   "cell_type": "code",
   "execution_count": 2,
   "id": "56952371-156a-4505-9c92-0c027059bc71",
   "metadata": {},
   "outputs": [
    {
     "data": {
      "text/plain": [
       "17"
      ]
     },
     "execution_count": 2,
     "metadata": {},
     "output_type": "execute_result"
    }
   ],
   "source": [
    "## This a simple arithmetic expression to mutiply then add integers\n",
    "(3*4)+5"
   ]
  },
  {
   "cell_type": "code",
   "execution_count": 3,
   "id": "34d865b3-820b-46cc-8455-a552a765b063",
   "metadata": {},
   "outputs": [
    {
     "name": "stdin",
     "output_type": "stream",
     "text": [
      "How many minutes do you want to convert into hours?  200\n"
     ]
    },
    {
     "name": "stdout",
     "output_type": "stream",
     "text": [
      "3.3333333333333335\n"
     ]
    }
   ],
   "source": [
    "## This will convert any amount of minutes to hours by diving by 60\n",
    "## To convert 200 minutes, simply enter 200 when prompted by the question.\n",
    "minutes = input(\"How many minutes do you want to convert into hours? \")\n",
    "minutes = int(minutes)\n",
    "print(minutes/60)"
   ]
  },
  {
   "cell_type": "markdown",
   "id": "4e0a8482-03b6-45d6-91e0-13bfc9a8e2cc",
   "metadata": {},
   "source": [
    "## Author\n",
    "Andrew Gavin"
   ]
  }
 ],
 "metadata": {
  "kernelspec": {
   "display_name": "Python",
   "language": "python",
   "name": "conda-env-python-py"
  },
  "language_info": {
   "codemirror_mode": {
    "name": "ipython",
    "version": 3
   },
   "file_extension": ".py",
   "mimetype": "text/x-python",
   "name": "python",
   "nbconvert_exporter": "python",
   "pygments_lexer": "ipython3",
   "version": "3.7.12"
  }
 },
 "nbformat": 4,
 "nbformat_minor": 5
}
